{
 "cells": [
  {
   "cell_type": "code",
   "execution_count": 7,
   "metadata": {
    "collapsed": false
   },
   "outputs": [],
   "source": [
    "import numpy as np # to perform algebric calculations\n",
    "import pandas as pd # data processing-input as pandas dataframe\n",
    "import os\n",
    "import gc # To clean memory\n",
    "import warnings\n",
    "warnings.filterwarnings('ignore')\n",
    "import seaborn as sns\n",
    "sns.set_style('whitegrid')\n",
    "import matplotlib.pyplot as plt  #for plotting purpose"
   ]
  },
  {
   "cell_type": "code",
   "execution_count": 8,
   "metadata": {
    "collapsed": false
   },
   "outputs": [],
   "source": [
    "#Read training and test data\n",
    "clicks_train = pd.read_csv(\"../data/clicks_train.csv\")\n",
    "clicks_test =pd.read_csv(\"../data/clicks_test.csv\")"
   ]
  },
  {
   "cell_type": "code",
   "execution_count": 4,
   "metadata": {
    "collapsed": true
   },
   "outputs": [],
   "source": [
    "#Analysis of ads in clicks_train.csv\n",
    "\n",
    "# Frequency of each ad \n",
    "freq_ads = clicks_train['ad_id'].value_counts()\n",
    "\n",
    "# Average clicks for each ad\n",
    "ads_click_count = clicks_train[clicks_train['clicked'] == 1]['ad_id'].value_counts()\n",
    "ads_average = ads_click_count.values / freq_ads[ads_click_count.index]"
   ]
  },
  {
   "cell_type": "code",
   "execution_count": null,
   "metadata": {
    "collapsed": true
   },
   "outputs": [],
   "source": [
    "try: del clicks_train,events,clicks_test\n",
    "except: pass;\n",
    "gc.collect()\n",
    "\n",
    "# Submission_file creation\n",
    "k=int(freq_ads.mean())\n",
    "ad_click_prob = (ads_click_count.values) / ( freq_ads[ads_click_count.index]+ k ) \n",
    "\n",
    "\n",
    "def prob_score(ad):\n",
    "    if ad not in ad_click_prob :\n",
    "        return 0\n",
    "    return ad_click_prob[ad] \n",
    "\n",
    "def generate_prob_sequence(ads):\n",
    "    ads = map(int, ads.split())\n",
    "    \n",
    "    # Sort\n",
    "    ads = sorted(ads, key=prob_score, reverse=True) \n",
    "    \n",
    "    # Final output sequence in descending order of probabilities\n",
    "    return \" \".join(map(str, ads)) \n",
    "\n",
    "\n",
    "submission = pd.read_csv(\"../data/sample_submission.csv\") \n",
    "submission['ad_id'] = submission['ad_id'].apply(lambda ads: generate_prob_sequence(ads))\n",
    "\n",
    "submission.to_csv(\"results_1.csv\", index=False)"
   ]
  }
 ],
 "metadata": {
  "anaconda-cloud": {},
  "kernelspec": {
   "display_name": "Python [conda root]",
   "language": "python",
   "name": "conda-root-py"
  },
  "language_info": {
   "codemirror_mode": {
    "name": "ipython",
    "version": 3.0
   },
   "file_extension": ".py",
   "mimetype": "text/x-python",
   "name": "python",
   "nbconvert_exporter": "python",
   "pygments_lexer": "ipython3",
   "version": "3.5.2"
  }
 },
 "nbformat": 4,
 "nbformat_minor": 0
}
{
 "cells": [
  {
   "cell_type": "code",
   "execution_count": 1,
   "metadata": {
    "collapsed": true
   },
   "outputs": [],
   "source": [
    "#Libraries\n",
    "import numpy as np # to perform algebric calculations\n",
    "import pandas as pd # data processing-input as pandas dataframe\n",
    "import os\n",
    "import gc # To clean memory\n",
    "from sklearn.linear_model import LogisticRegression\n",
    "from sklearn.linear_model import SGDClassifier\n",
    "from sklearn.cross_validation import KFold\n",
    "from sklearn.metrics import accuracy_score\n",
    "import warnings\n",
    "warnings.filterwarnings('ignore')\n",
    "#import seaborn as sns\n",
    "#sns.set_style('whitegrid')\n",
    "#import matplotlib.pyplot as plt  #for plotting purpose\n",
    "#from scipy.sparse import lil_matrix\n",
    "#from sklearn.ensemble import RandomForestClassifier"
   ]
  },
  {
   "cell_type": "code",
   "execution_count": 2,
   "metadata": {
    "collapsed": false
   },
   "outputs": [
    {
     "name": "stdout",
     "output_type": "stream",
     "text": [
      "file_read done\n"
     ]
    }
   ],
   "source": [
    "###################################################################\n",
    "#                       READ DATA                                 #\n",
    "###################################################################\n",
    "clicks_train = pd.read_csv(\"../data/clicks_train.csv\")\n",
    "clicks_train.fillna(0,inplace=True)\n",
    "\n",
    "promoted_content = pd.read_csv(\"../data/promoted_content.csv\")\n",
    "promoted_content.fillna(0, inplace=True)\n",
    "X_test=pd.read_csv(\"../data/clicks_test.csv\")\n",
    "print(\"file_read done\")\n",
    "####################################################################"
   ]
  },
  {
   "cell_type": "code",
   "execution_count": 3,
   "metadata": {
    "collapsed": true
   },
   "outputs": [],
   "source": [
    "k=int(clicks_train.clicked.mean())\n",
    "M=k\n",
    "df_mrg=clicks_train.merge(promoted_content,on='ad_id' ,how='left')"
   ]
  },
  {
   "cell_type": "code",
   "execution_count": null,
   "metadata": {
    "collapsed": true
   },
   "outputs": [],
   "source": [
    "#Analysis of ads_prob in clicks_train.csv\n",
    "train_prob=clicks_train.groupby(['ad_id']).clicked.agg(['count' ,'sum']).reset_index()\n",
    "k=int(clicks_train.clicked.mean())\n",
    "M=k\n",
    "train_prob['prob_Score']=((train_prob['sum']+18*k)/(18+train_prob['count']))\n",
    "train_prob=train_prob.drop(['count','sum'],1)\n",
    "#print(train_prob)"
   ]
  },
  {
   "cell_type": "code",
   "execution_count": null,
   "metadata": {
    "collapsed": false
   },
   "outputs": [],
   "source": [
    "#Add the calculated scores to promoted_content based on 'ad_id'\n",
    "promoted_content=promoted_content.merge(train_prob,on='ad_id' ,how='left')\n",
    "promoted_content.fillna(0, inplace=True)\n",
    "del train_prob\n",
    "print(\"prob_score cal done\")"
   ]
  },
  {
   "cell_type": "code",
   "execution_count": 13,
   "metadata": {
    "collapsed": false
   },
   "outputs": [
    {
     "name": "stdout",
     "output_type": "stream",
     "text": [
      "          display_id platform\n",
      "0                  1        3\n",
      "1                  2        2\n",
      "2                  3        2\n",
      "3                  4        2\n",
      "4                  5        2\n",
      "5                  6        3\n",
      "6                  7        2\n",
      "7                  8        2\n",
      "8                  9        1\n",
      "9                 10        1\n",
      "10                11        3\n",
      "11                12        1\n",
      "12                13        1\n",
      "13                14        3\n",
      "14                15        2\n",
      "15                16        1\n",
      "16                17        2\n",
      "17                18        2\n",
      "18                19        3\n",
      "19                20        2\n",
      "20                21        2\n",
      "21                22        2\n",
      "22                23        2\n",
      "23                24        2\n",
      "24                25        2\n",
      "25                26        2\n",
      "26                27        2\n",
      "27                28        2\n",
      "28                29        2\n",
      "29                30        2\n",
      "...              ...      ...\n",
      "23120096    23120097        3\n",
      "23120097    23120098        2\n",
      "23120098    23120099        2\n",
      "23120099    23120100        2\n",
      "23120100    23120101        2\n",
      "23120101    23120102        1\n",
      "23120102    23120103        1\n",
      "23120103    23120104        3\n",
      "23120104    23120105        2\n",
      "23120105    23120106        2\n",
      "23120106    23120107        2\n",
      "23120107    23120108        1\n",
      "23120108    23120109        2\n",
      "23120109    23120110        1\n",
      "23120110    23120111        2\n",
      "23120111    23120112        1\n",
      "23120112    23120113        2\n",
      "23120113    23120114        1\n",
      "23120114    23120115        2\n",
      "23120115    23120116        2\n",
      "23120116    23120117        1\n",
      "23120117    23120118        2\n",
      "23120118    23120119        1\n",
      "23120119    23120120        1\n",
      "23120120    23120121        2\n",
      "23120121    23120122        1\n",
      "23120122    23120123        2\n",
      "23120123    23120124        2\n",
      "23120124    23120125        2\n",
      "23120125    23120126        2\n",
      "\n",
      "[23120126 rows x 2 columns]\n",
      "['3' '2' '1' '\\\\N']\n"
     ]
    }
   ],
   "source": [
    "events = pd.read_csv(\"../data/events.csv\")\n",
    "#events.fillna(0, inplace=True)\n",
    "events=events[['display_id','platform']]\n",
    "#ad_platform_score from events file calculation\n",
    "events.platform = events.platform.astype(str)\n",
    "print(events)\n",
    "#events.platform = events.platform.replace('\\\\N','2',inplace=True)\n",
    "print(events.platform.unique())"
   ]
  },
  {
   "cell_type": "code",
   "execution_count": 14,
   "metadata": {
    "collapsed": false
   },
   "outputs": [],
   "source": [
    "\n",
    "df_mrg1=clicks_train.merge(events,on='display_id' ,how='left')\n",
    "df_mrg1['ad_id_pl']= df_mrg1['ad_id'].map(str) + \"_\" + df_mrg1.platform\n",
    "df_events=df_mrg1.groupby('ad_id_pl').clicked.agg(['count' ,'sum']).reset_index()\n",
    "df_events['ad_pl_Score']= (df_events['sum']+18*k ) / (18 + df_events['count'])\n"
   ]
  },
  {
   "cell_type": "code",
   "execution_count": 15,
   "metadata": {
    "collapsed": false
   },
   "outputs": [
    {
     "name": "stdout",
     "output_type": "stream",
     "text": [
      "clicks_train+events done\n",
      "clicks_test+events done\n"
     ]
    }
   ],
   "source": [
    "df_events=df_mrg1.merge(df_events,on='ad_id_pl' ,how='left')\n",
    "df_events=df_events.drop(['platform','count','sum'],1)\n",
    "print(\"clicks_train+events done\")\n",
    "X_test=X_test.merge(events,on='display_id' ,how='left')\n",
    "X_test['ad_id_pl']= X_test['ad_id'].map(str) + \"_\" + X_test.platform\n",
    "print(\"clicks_test+events done\")\n",
    "del events\n",
    "del df_mrg1,clicks_train"
   ]
  },
  {
   "cell_type": "code",
   "execution_count": 16,
   "metadata": {
    "collapsed": false
   },
   "outputs": [],
   "source": [
    "#join click_trains with  promoted_content on ad_id and calculate campaigner_score\n",
    "df_cmpg= df_mrg.groupby('campaign_id').clicked.agg(['count' ,'sum']).reset_index()\n",
    "df_cmpg['cmpg_Score']= (df_cmpg['sum'] +18*M) / (18 + df_cmpg['count'])\n",
    "df_cmpg=pd.DataFrame(df_cmpg).sort('cmpg_Score')\n",
    "df_cmpg=df_cmpg.drop('count',1)\n",
    "df_cmpg=df_cmpg.drop('sum',1)"
   ]
  },
  {
   "cell_type": "code",
   "execution_count": 17,
   "metadata": {
    "collapsed": true
   },
   "outputs": [],
   "source": [
    "#join click_trains with  promoted_content on ad_id and calculate advertiser_score\n",
    "df_adv= df_mrg.groupby('advertiser_id').clicked.agg(['count' ,'sum']).reset_index()\n",
    "df_adv['adv_Score']= (df_adv['sum'] + M*18) / (18 + df_adv['count'])\n",
    "df_adv=df_adv.drop('count',1)\n",
    "df_adv=df_adv.drop('sum',1)"
   ]
  },
  {
   "cell_type": "code",
   "execution_count": 18,
   "metadata": {
    "collapsed": false
   },
   "outputs": [
    {
     "name": "stdout",
     "output_type": "stream",
     "text": [
      "campg_score and adv_score done\n"
     ]
    }
   ],
   "source": [
    "#add the calculated campaigner_score and advertiser_score to promoted_content\n",
    "promoted_content=promoted_content.merge(df_adv,on='advertiser_id',how='left').merge(df_cmpg,on='campaign_id',how='left')\n",
    "promoted_content=promoted_content.drop('campaign_id',1)\n",
    "promoted_content=promoted_content.drop('advertiser_id',1)\n",
    "del df_adv,df_cmpg,df_mrg\n",
    "\n",
    "print(\"campg_score and adv_score done\")\n"
   ]
  },
  {
   "cell_type": "code",
   "execution_count": 19,
   "metadata": {
    "collapsed": false
   },
   "outputs": [
    {
     "name": "stdout",
     "output_type": "stream",
     "text": [
      "         ad_id  document_id  adv_Score  cmpg_Score\n",
      "0            1         6614   0.202470    0.240752\n",
      "1            2       471467   0.202470    0.125249\n",
      "2            3         7692   0.202470    0.113260\n",
      "3            4       471471   0.202470    0.125249\n",
      "4            5       471472   0.202470    0.125249\n",
      "5            6        12736   0.202470    0.240752\n",
      "6            7        12808   0.202470    0.240752\n",
      "7            8       471477   0.202470    0.125249\n",
      "8            9        13379   0.202470    0.240752\n",
      "9           10        13885   0.202470    0.240752\n",
      "10          11        14230   0.202470    0.240752\n",
      "11          12       446701   0.113761    0.067039\n",
      "12          13       471499   0.113761    0.067039\n",
      "13          14       471500   0.113761    0.067039\n",
      "14          15       471501   0.113761    0.067039\n",
      "15          16       471514   0.113761    0.053763\n",
      "16          17       471517   0.113761    0.067039\n",
      "17          18       471518   0.113761    0.067039\n",
      "18          19       471519   0.113761    0.030534\n",
      "19          20       446660   0.113761    0.031008\n",
      "20          21        20896   0.113761    0.021277\n",
      "21          22        21203   0.113761    0.067039\n",
      "22          23        21112   0.113761    0.067039\n",
      "23          24        20100   0.113761    0.067039\n",
      "24          25        25921   0.202470    0.240752\n",
      "25          26       471529   0.113761    0.053763\n",
      "26          27       471530   0.113761    0.053763\n",
      "27          28       471534   0.113761    0.067039\n",
      "28          29       471536   0.113761    0.053691\n",
      "29          30       471539   0.113761    0.067039\n",
      "...        ...          ...        ...         ...\n",
      "559553  572914      2504969        NaN         NaN\n",
      "559554  572915      2504969        NaN         NaN\n",
      "559555  572916      2402560        NaN         NaN\n",
      "559556  572917      2504969        NaN         NaN\n",
      "559557  572918      2504969        NaN         NaN\n",
      "559558  572919      2402560        NaN         NaN\n",
      "559559  572920      2402560        NaN         NaN\n",
      "559560  572921      2402560        NaN         NaN\n",
      "559561  572922      2402560        NaN         NaN\n",
      "559562  572923      2402560        NaN         NaN\n",
      "559563  572924      2402560        NaN         NaN\n",
      "559564  572925      2402560        NaN         NaN\n",
      "559565  572926      2402560        NaN         NaN\n",
      "559566  572927      2402560        NaN         NaN\n",
      "559567  572928      2402560        NaN         NaN\n",
      "559568  572929      2402560        NaN         NaN\n",
      "559569  572930      2402560        NaN         NaN\n",
      "559570  572931      2402560        NaN         NaN\n",
      "559571  572932      2402560        NaN         NaN\n",
      "559572  572933      2402560        NaN         NaN\n",
      "559573  572934      2402560        NaN         NaN\n",
      "559574  572935      2402560        NaN         NaN\n",
      "559575  572936      2402560        NaN         NaN\n",
      "559576  572937      2402560        NaN         NaN\n",
      "559577  572938      2402560        NaN         NaN\n",
      "559578  572968      1375496   0.365588    0.165690\n",
      "559579  573016      1051466   0.365588    0.165690\n",
      "559580  573081       497486   0.365588    0.165690\n",
      "559581  573094      2868067   0.186442    0.167996\n",
      "559582  573098      2790678   0.275918    0.161644\n",
      "\n",
      "[559583 rows x 4 columns]\n"
     ]
    }
   ],
   "source": [
    "print(promoted_content)"
   ]
  },
  {
   "cell_type": "code",
   "execution_count": 20,
   "metadata": {
    "collapsed": false
   },
   "outputs": [
    {
     "name": "stdout",
     "output_type": "stream",
     "text": [
      "X (join of pl_score and promoted_content) creation done\n"
     ]
    }
   ],
   "source": [
    "#create final training_data file -merge promoted_content and df_events\n",
    "gc.collect()\n",
    "X=df_events.merge(promoted_content,how='left',on='ad_id')\n",
    "promoted_content=promoted_content.drop('document_id',1)\n",
    "print(\"X (join of pl_score and promoted_content) creation done\")\n",
    "df=df_events.drop(['ad_id','display_id','clicked'],1)\n",
    "del df_events\n",
    "df=df.drop_duplicates()"
   ]
  },
  {
   "cell_type": "code",
   "execution_count": 21,
   "metadata": {
    "collapsed": false
   },
   "outputs": [
    {
     "name": "stdout",
     "output_type": "stream",
     "text": [
      "X array created\n"
     ]
    }
   ],
   "source": [
    "Y=np.array(X['clicked'])\n",
    "X= X.drop(['ad_id','display_id','clicked','document_id','ad_id_pl'],1)\n",
    "X=np.array (X)\n",
    "print(\"X array created\")"
   ]
  },
  {
   "cell_type": "code",
   "execution_count": 22,
   "metadata": {
    "collapsed": false
   },
   "outputs": [
    {
     "name": "stdout",
     "output_type": "stream",
     "text": [
      "[[ 0.19629527  0.2225146   0.16701992]\n",
      " [ 0.1689008   0.170883    0.15096548]\n",
      " [ 0.29403468  0.31435508  0.31435508]\n",
      " ..., \n",
      " [ 0.37459283  0.21405144  0.35585415]\n",
      " [ 0.24398178  0.18644197  0.1679962 ]\n",
      " [ 0.17469011  0.14241466  0.14241466]]\n",
      "[0 0 1 ..., 0 0 0]\n",
      "          ad_id_pl  ad_pl_Score\n",
      "0          42337_3     0.196295\n",
      "1         139684_3     0.168901\n",
      "2         144739_3     0.294035\n",
      "3         156824_3     0.039135\n",
      "4         279295_3     0.264000\n",
      "5         296965_3     0.000000\n",
      "6         125211_2     0.150410\n",
      "7         156535_2     0.000000\n",
      "8         169564_2     0.094862\n",
      "9         308455_2     0.352018\n",
      "10         71547_2     0.080171\n",
      "11         95814_2     0.235476\n",
      "12        152141_2     0.163235\n",
      "13        183846_2     0.202232\n",
      "14        228657_2     0.154098\n",
      "15        250082_2     0.038334\n",
      "16        149930_2     0.146012\n",
      "17        153623_2     0.233444\n",
      "18        184709_2     0.069848\n",
      "19        186849_2     0.149480\n",
      "20        233730_2     0.144254\n",
      "21         54606_2     0.208232\n",
      "22        162868_2     0.274576\n",
      "23        184548_2     0.210151\n",
      "24        282674_2     0.057971\n",
      "25        326514_2     0.072464\n",
      "26         85397_3     0.071135\n",
      "27        160754_3     0.115865\n",
      "28        173388_3     0.078509\n",
      "29        175234_3     0.242071\n",
      "...            ...          ...\n",
      "87137007  508556_3     0.000000\n",
      "87137047  296282_1     0.000000\n",
      "87137333  511896_2     0.000000\n",
      "87137351  139966_3     0.000000\n",
      "87137383  187114_1     0.000000\n",
      "87137419  417678_2     0.000000\n",
      "87137443  546825_3     0.000000\n",
      "87137557  182940_1     0.000000\n",
      "87137735  485089_2     0.000000\n",
      "87137846  231818_3     0.052632\n",
      "87137872  220395_3     0.000000\n",
      "87138105  519214_1     0.000000\n",
      "87138318  520623_3     0.000000\n",
      "87138909   98666_3     0.052632\n",
      "87139025  288726_3     0.000000\n",
      "87139317  145692_3     0.000000\n",
      "87139319  328741_3     0.000000\n",
      "87139370  469157_3     0.000000\n",
      "87139400  232041_1     0.000000\n",
      "87139509  209578_1     0.000000\n",
      "87139657  248844_2     0.052632\n",
      "87139825  216728_3     0.000000\n",
      "87139984  482047_1     0.000000\n",
      "87140178  533121_1     0.000000\n",
      "87140205  279468_1     0.000000\n",
      "87140214  547068_1     0.000000\n",
      "87140860  495235_1     0.000000\n",
      "87141482  104841_1     0.000000\n",
      "87141569  509329_2     0.000000\n",
      "87141667  218347_3     0.000000\n",
      "\n",
      "[696736 rows x 2 columns]\n"
     ]
    }
   ],
   "source": [
    "print(X)\n",
    "print(Y)\n",
    "print(df)"
   ]
  },
  {
   "cell_type": "code",
   "execution_count": 23,
   "metadata": {
    "collapsed": false
   },
   "outputs": [
    {
     "name": "stdout",
     "output_type": "stream",
     "text": [
      "X_test created\n"
     ]
    }
   ],
   "source": [
    "X_test=X_test.merge(df,on='ad_id_pl' ,how='left')\n",
    "del df\n",
    "gc.collect()\n",
    "X_test=X_test.merge(promoted_content,how='left',on='ad_id')\n",
    "del promoted_content\n",
    "X_test= X_test.drop(['display_id','ad_id','platform','ad_id_pl'],1)\n",
    "X_test.fillna(value=0,inplace=True)\n",
    "print(\"X_test created\")"
   ]
  },
  {
   "cell_type": "code",
   "execution_count": null,
   "metadata": {
    "collapsed": true
   },
   "outputs": [],
   "source": [
    "from sklearn.svm import SVC\n",
    "SVC(C=1.0, class_weight=None, coef0=0.0,\n",
    "    decision_function_shape=None, degree=2, gamma='auto', kernel='rbf',\n",
    "    max_iter=-1, probability=True, random_state=None, shrinking=True,\n",
    "    tol=0.001, verbose=False)\n",
    "clf=SVC()\n",
    "clf.fit(X,Y)\n",
    "print(clf.score(X,Y))"
   ]
  },
  {
   "cell_type": "code",
   "execution_count": 24,
   "metadata": {
    "collapsed": false
   },
   "outputs": [
    {
     "name": "stdout",
     "output_type": "stream",
     "text": [
      "0.777150249632\n",
      "0.777150249632\n"
     ]
    }
   ],
   "source": [
    "from sklearn.naive_bayes import GaussianNB\n",
    "gnb_clf = GaussianNB()\n",
    "gnb_clf.fit(X, Y)\n",
    "print(accuracy_score(Y, gnb_clf.predict(X)))\n",
    "print(gnb_clf.score(X,Y))"
   ]
  },
  {
   "cell_type": "code",
   "execution_count": 25,
   "metadata": {
    "collapsed": false
   },
   "outputs": [
    {
     "name": "stdout",
     "output_type": "stream",
     "text": [
      "0.809795068221\n",
      "0.809795068221\n",
      "model fit done\n"
     ]
    }
   ],
   "source": [
    "#Applying Model\n",
    "gc.collect()\n",
    "reg=SGDClassifier(loss= 'log', penalty= 'l2')\n",
    "reg.fit(X,Y)\n",
    "print(accuracy_score(Y, reg.predict(X)))\n",
    "print(reg.score(X,Y))\n",
    "output= reg.decision_function(X_test)\n",
    "#plt.hist(output)\n",
    "#plt.show()\n",
    "print(\"model fit done\")"
   ]
  },
  {
   "cell_type": "code",
   "execution_count": 26,
   "metadata": {
    "collapsed": false
   },
   "outputs": [
    {
     "name": "stdout",
     "output_type": "stream",
     "text": [
      "   display_id                                     ad_id\n",
      "0    16874594  170392 172888 162754 66758 150083 180797\n",
      "output stored\n"
     ]
    }
   ],
   "source": [
    "#Create submission File\n",
    "output=pd.read_csv('../data/clicks_test.csv').merge(pd.DataFrame(output,columns=['prediction']), left_index=True,right_index=True)\n",
    "output.sort_values(['display_id','prediction'], inplace=True, ascending=False)\n",
    "#.isin(16874594,16874595,16874596,16874597,16874598)].sort('prob_Score'))\n",
    "subm = output.groupby('display_id').ad_id.apply(lambda x: \" \".join(map(str,x))).reset_index()\n",
    "print(subm[subm[\"display_id\"]==16874594])\n",
    "subm.to_csv('../output/submission_file_11dec_final.csv', index=False)\n",
    "print(\"output stored\")"
   ]
  },
  {
   "cell_type": "code",
   "execution_count": null,
   "metadata": {
    "collapsed": true
   },
   "outputs": [],
   "source": []
  }
 ],
 "metadata": {
  "anaconda-cloud": {},
  "kernelspec": {
   "display_name": "Python [conda root]",
   "language": "python",
   "name": "conda-root-py"
  },
  "language_info": {
   "codemirror_mode": {
    "name": "ipython",
    "version": 3
   },
   "file_extension": ".py",
   "mimetype": "text/x-python",
   "name": "python",
   "nbconvert_exporter": "python",
   "pygments_lexer": "ipython3",
   "version": "3.5.2"
  }
 },
 "nbformat": 4,
 "nbformat_minor": 1
}
